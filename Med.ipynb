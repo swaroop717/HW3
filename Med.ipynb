{
 "cells": [
  {
   "cell_type": "code",
   "execution_count": 43,
   "metadata": {},
   "outputs": [],
   "source": [
    "f = open('rosalind_med.txt')\n",
    "content = f.readlines()\n",
    "n = int(content[0])\n",
    "array = list(map(int,content[1].rstrip().split()))\n",
    "k=int(content[2])"
   ]
  },
  {
   "cell_type": "code",
   "execution_count": 41,
   "metadata": {},
   "outputs": [],
   "source": [
    "def ksmall(array,K):\n",
    "    if len(array)>1:\n",
    "        mid = len(array)//2\n",
    "        left =array[:mid]\n",
    "        right= array[mid:]\n",
    "        ksmall(left,K)\n",
    "        ksmall(right,K)\n",
    "        i=j=k=0\n",
    "        while i<len(left) and j<len(right):\n",
    "            if left[i]<right[j]:\n",
    "                array[k]=left[i]\n",
    "                i+=1\n",
    "            else:\n",
    "                array[k]=right[j]\n",
    "                j+=1\n",
    "            k+=1\n",
    "            if K==k:\n",
    "                return array[k-1]\n",
    "        while i<len(left):\n",
    "            array[k]=left[i]\n",
    "            i+=1\n",
    "            k+=1\n",
    "            if K==k:\n",
    "                return array[k-1]\n",
    "        while j<len(right):\n",
    "            array[k]=right[j]\n",
    "            j+=1\n",
    "            k+=1\n",
    "            if K==k:\n",
    "                return array[k-1]"
   ]
  },
  {
   "cell_type": "code",
   "execution_count": 44,
   "metadata": {},
   "outputs": [
    {
     "data": {
      "text/plain": [
       "57168"
      ]
     },
     "execution_count": 44,
     "metadata": {},
     "output_type": "execute_result"
    }
   ],
   "source": [
    "ksmall(array,k)"
   ]
  }
 ],
 "metadata": {
  "kernelspec": {
   "display_name": "Python 3",
   "language": "python",
   "name": "python3"
  },
  "language_info": {
   "codemirror_mode": {
    "name": "ipython",
    "version": 3
   },
   "file_extension": ".py",
   "mimetype": "text/x-python",
   "name": "python",
   "nbconvert_exporter": "python",
   "pygments_lexer": "ipython3",
   "version": "3.8.3"
  }
 },
 "nbformat": 4,
 "nbformat_minor": 4
}
