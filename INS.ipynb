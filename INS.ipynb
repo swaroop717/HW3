{
 "cells": [
  {
   "cell_type": "code",
   "execution_count": 3,
   "metadata": {},
   "outputs": [],
   "source": [
    "def ins(array):\n",
    "    swap = 0\n",
    "    for i in range(len(array)):\n",
    "        k = i\n",
    "        while k > 0 and array[k] < array[k-1]:\n",
    "            array[k-1], array[k] = array[k], array[k-1]\n",
    "            swap += 1\n",
    "            k -= 1\n",
    "    return swap "
   ]
  },
  {
   "cell_type": "code",
   "execution_count": null,
   "metadata": {},
   "outputs": [],
   "source": [
    "if __name__ == \"__main__\":\n",
    "    with open('rosalind_ins (2).txt', 'r') as f:\n",
    "        f.readline()\n",
    "        s = [int(i) for i in f. readline().strip().split(' ')]\n",
    "        print(ins(s))"
   ]
  }
 ],
 "metadata": {
  "kernelspec": {
   "display_name": "Python 3",
   "language": "python",
   "name": "python3"
  },
  "language_info": {
   "codemirror_mode": {
    "name": "ipython",
    "version": 3
   },
   "file_extension": ".py",
   "mimetype": "text/x-python",
   "name": "python",
   "nbconvert_exporter": "python",
   "pygments_lexer": "ipython3",
   "version": "3.8.3"
  }
 },
 "nbformat": 4,
 "nbformat_minor": 4
}
