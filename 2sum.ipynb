{
 "cells": [
  {
   "cell_type": "code",
   "execution_count": 1,
   "metadata": {},
   "outputs": [
    {
     "name": "stdout",
     "output_type": "stream",
     "text": [
      "1194 2605\n",
      "109 110\n",
      "1113 3548\n",
      "54 207\n",
      "3 123\n",
      "143 151\n",
      "114 198\n",
      "-1\n",
      "3 67\n",
      "6 87\n",
      "1590 3410\n",
      "3164 5728\n",
      "30 8358\n"
     ]
    }
   ],
   "source": [
    "with open(\"rosalind_2sum.txt\", \"r\") as f:\n",
    "    k, n = map(int, f.readline().strip().split())\n",
    "    arrays = [[int(i) for i in line.strip().split()] for line in f]\n",
    "    for i in range(k):\n",
    "        r = arrays[i]\n",
    "        temp = {}\n",
    "        flag=0\n",
    "        for j in range(len(r)):\n",
    "            if r[j] in temp:\n",
    "                print(temp[r[j]]+1,j+1)\n",
    "                flag=1\n",
    "                break\n",
    "            else:\n",
    "                temp[0-r[j]] =j\n",
    "        if flag==0:\n",
    "            print(-1)"
   ]
  },
  {
   "cell_type": "code",
   "execution_count": null,
   "metadata": {},
   "outputs": [],
   "source": []
  }
 ],
 "metadata": {
  "kernelspec": {
   "display_name": "Python 3",
   "language": "python",
   "name": "python3"
  },
  "language_info": {
   "codemirror_mode": {
    "name": "ipython",
    "version": 3
   },
   "file_extension": ".py",
   "mimetype": "text/x-python",
   "name": "python",
   "nbconvert_exporter": "python",
   "pygments_lexer": "ipython3",
   "version": "3.8.3"
  }
 },
 "nbformat": 4,
 "nbformat_minor": 4
}
