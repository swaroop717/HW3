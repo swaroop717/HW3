{
 "cells": [
  {
   "cell_type": "code",
   "execution_count": 4,
   "metadata": {},
   "outputs": [],
   "source": [
    "f = open('rosalind_maj (2).txt')\n",
    "content = f.readlines()"
   ]
  },
  {
   "cell_type": "code",
   "execution_count": 5,
   "metadata": {},
   "outputs": [],
   "source": [
    "k,n= map(int,content[0].rstrip().split())\n",
    "arrays=[]\n",
    "for i in range(1,k+1):\n",
    "    temp = list(map(int,content[i].rstrip().split()))\n",
    "    arrays.append(temp)"
   ]
  },
  {
   "cell_type": "code",
   "execution_count": 6,
   "metadata": {},
   "outputs": [],
   "source": [
    "final =[0]*k\n",
    "for i in range(len(arrays)):\n",
    "    elems=set(arrays[i])\n",
    "    fe=-1\n",
    "    for e in elems:\n",
    "        l = arrays[i].count(e)\n",
    "        if l>n/2:\n",
    "            fe=e\n",
    "    final[i]=fe\n",
    "        "
   ]
  },
  {
   "cell_type": "code",
   "execution_count": 7,
   "metadata": {},
   "outputs": [
    {
     "name": "stdout",
     "output_type": "stream",
     "text": [
      "834 9829 -1 3124 -1 1847 -1 -1 -1 3301 4244 6191 617 -1 3142 -1 9322\n"
     ]
    }
   ],
   "source": [
    "print(*final)"
   ]
  }
 ],
 "metadata": {
  "kernelspec": {
   "display_name": "Python 3",
   "language": "python",
   "name": "python3"
  },
  "language_info": {
   "codemirror_mode": {
    "name": "ipython",
    "version": 3
   },
   "file_extension": ".py",
   "mimetype": "text/x-python",
   "name": "python",
   "nbconvert_exporter": "python",
   "pygments_lexer": "ipython3",
   "version": "3.8.3"
  }
 },
 "nbformat": 4,
 "nbformat_minor": 4
}
