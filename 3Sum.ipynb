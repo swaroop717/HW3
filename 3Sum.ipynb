{
 "cells": [
  {
   "cell_type": "code",
   "execution_count": 61,
   "metadata": {},
   "outputs": [],
   "source": [
    "with open(\"rosalind_3sum (2).txt\", \"r\") as f:\n",
    "    k, n = map(int, f.readline().strip().split())\n",
    "    arrays = [[int(i) for i in line.strip().split()] for line in f]"
   ]
  },
  {
   "cell_type": "code",
   "execution_count": 58,
   "metadata": {},
   "outputs": [],
   "source": [
    "def sum2(r,t=0):\n",
    "    temp = {}\n",
    "    for j in range(len(r)):\n",
    "        if r[j] in temp:\n",
    "            return(temp[r[j]]+1,j+1)\n",
    "        else:\n",
    "            temp[t-r[j]] =j\n",
    "    return -1"
   ]
  },
  {
   "cell_type": "code",
   "execution_count": 59,
   "metadata": {},
   "outputs": [],
   "source": [
    "def sum3(r,t=0):\n",
    "    for i in range(len(r)):\n",
    "        res = sum2(r[i+1:], t=t-r[i])\n",
    "        if res != -1:\n",
    "            print(i+1, i+1+res[0], i+1+res[1])\n",
    "            return (i+1, i+1+res[0], i+1+res[1])\n",
    "    print(-1)\n",
    "    return -1"
   ]
  },
  {
   "cell_type": "code",
   "execution_count": 62,
   "metadata": {},
   "outputs": [
    {
     "name": "stdout",
     "output_type": "stream",
     "text": [
      "1 321 402\n",
      "2 5364 8956\n",
      "-1\n",
      "1 118 251\n",
      "-1\n",
      "2425 4881 5579\n",
      "-1\n",
      "1776 4404 6916\n",
      "2597 9349 9583\n",
      "-1\n",
      "1 35 144\n",
      "1775 9181 9428\n",
      "4626 7677 8298\n"
     ]
    }
   ],
   "source": [
    "b=[]\n",
    "for A in arrays:\n",
    "    b.append(sum3(A))"
   ]
  }
 ],
 "metadata": {
  "kernelspec": {
   "display_name": "Python 3",
   "language": "python",
   "name": "python3"
  },
  "language_info": {
   "codemirror_mode": {
    "name": "ipython",
    "version": 3
   },
   "file_extension": ".py",
   "mimetype": "text/x-python",
   "name": "python",
   "nbconvert_exporter": "python",
   "pygments_lexer": "ipython3",
   "version": "3.8.3"
  }
 },
 "nbformat": 4,
 "nbformat_minor": 4
}
