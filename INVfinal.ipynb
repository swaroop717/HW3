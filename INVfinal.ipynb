{
 "cells": [
  {
   "cell_type": "code",
   "execution_count": 17,
   "metadata": {},
   "outputs": [],
   "source": [
    "f = open('rosalind_inv (3).txt')\n",
    "content = f.readlines()\n",
    "n = int(content[0])\n",
    "arr = list(map(int,content[1].rstrip().split()))"
   ]
  },
  {
   "cell_type": "code",
   "execution_count": 19,
   "metadata": {},
   "outputs": [
    {
     "name": "stdout",
     "output_type": "stream",
     "text": [
      "2050428925\n"
     ]
    }
   ],
   "source": [
    "inv_count = 0\n",
    "for i in range(n):\n",
    "    for j in range(i + 1, n):\n",
    "        if (arr[i] > arr[j]):\n",
    "            inv_count += 1\n",
    "print(inv_count)"
   ]
  }
 ],
 "metadata": {
  "kernelspec": {
   "display_name": "Python 3",
   "language": "python",
   "name": "python3"
  },
  "language_info": {
   "codemirror_mode": {
    "name": "ipython",
    "version": 3
   },
   "file_extension": ".py",
   "mimetype": "text/x-python",
   "name": "python",
   "nbconvert_exporter": "python",
   "pygments_lexer": "ipython3",
   "version": "3.8.3"
  }
 },
 "nbformat": 4,
 "nbformat_minor": 4
}
